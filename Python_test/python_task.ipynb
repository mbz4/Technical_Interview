{
 "cells": [
  {
   "cell_type": "markdown",
   "metadata": {},
   "source": [
    "# DiffGNSS Python Task"
   ]
  },
  {
   "cell_type": "markdown",
   "metadata": {},
   "source": [
    "### Lib imports, setup"
   ]
  },
  {
   "cell_type": "code",
   "execution_count": 1,
   "metadata": {},
   "outputs": [
    {
     "ename": "ModuleNotFoundError",
     "evalue": "No module named 'matplotlib'",
     "output_type": "error",
     "traceback": [
      "\u001b[1;31m---------------------------------------------------------------------------\u001b[0m",
      "\u001b[1;31mModuleNotFoundError\u001b[0m                       Traceback (most recent call last)",
      "Cell \u001b[1;32mIn[1], line 1\u001b[0m\n\u001b[1;32m----> 1\u001b[0m \u001b[39mimport\u001b[39;00m \u001b[39mcsv\u001b[39;00m\u001b[39m,\u001b[39m \u001b[39mtime\u001b[39;00m\u001b[39m,\u001b[39m \u001b[39mmatplotlib\u001b[39;00m\n\u001b[0;32m      2\u001b[0m \u001b[39mimport\u001b[39;00m \u001b[39mmatplotlib\u001b[39;00m\u001b[39m.\u001b[39;00m\u001b[39mpyplot\u001b[39;00m \u001b[39mas\u001b[39;00m \u001b[39mplt\u001b[39;00m\n\u001b[0;32m      3\u001b[0m \u001b[39mimport\u001b[39;00m \u001b[39mnumpy\u001b[39;00m \u001b[39mas\u001b[39;00m \u001b[39mnp\u001b[39;00m\n",
      "\u001b[1;31mModuleNotFoundError\u001b[0m: No module named 'matplotlib'"
     ]
    }
   ],
   "source": [
    "import csv, time, matplotlib\n",
    "import matplotlib.pyplot as plt\n",
    "import numpy as np\n",
    "matplotlib.use('Qt5Agg')\n",
    "plt.style.use('seaborn-v0_8-whitegrid')"
   ]
  },
  {
   "cell_type": "markdown",
   "metadata": {},
   "source": [
    "### Timing utility"
   ]
  },
  {
   "cell_type": "code",
   "execution_count": null,
   "metadata": {},
   "outputs": [],
   "source": [
    "def time_it(func):\n",
    "    def wrapper(self, *args, **kwargs):\n",
    "        start = time.perf_counter()\n",
    "        result = func(self, *args, **kwargs)\n",
    "        end = time.perf_counter()\n",
    "        print(f'{func.__name__} executed in {1000*(end - start):.03f} ms.')\n",
    "        return result\n",
    "    return wrapper"
   ]
  },
  {
   "cell_type": "markdown",
   "metadata": {},
   "source": [
    "## DiffGNSSProcessor Class"
   ]
  },
  {
   "cell_type": "code",
   "execution_count": null,
   "metadata": {},
   "outputs": [],
   "source": [
    "class DiffGNSSProcessor: # class definition\n",
    "    def __init__(self, file_path): # constructor\n",
    "        self.data = []\n",
    "        self.load_data(file_path)\n",
    "        self.projected_points = []\n",
    "        self.headings = []\n",
    "        self.velocities = []\n",
    "        self.normalized_velocities = []\n",
    "        self.output_data = []\n",
    "          \n",
    "    def load_data(self, file_path):\n",
    "        with open(file_path, 'r') as f:\n",
    "            reader = csv.reader(f)\n",
    "            next(reader)\n",
    "            for row in reader:\n",
    "                time_s = float(row[0])\n",
    "                x_m = float(int(row[1])) / 1000  # Convert to meters (makes more sense in this context)\n",
    "                y_m = float(int(row[2])) / 1000\n",
    "                roll_deg = float(row[3])\n",
    "                pitch_deg = float(row[4])\n",
    "                data_tuple = (time_s, x_m, y_m, roll_deg, pitch_deg)\n",
    "                self.data.append(data_tuple)\n",
    "    \n",
    "    def calculate_projection(self):\n",
    "        for point in self.data:\n",
    "            x_m, y_m, roll_deg, pitch_deg = point[1], point[2], point[3], point[4]\n",
    "            x_offset = 1.5 * np.tan(np.radians(roll_deg))  # 1.5 meters is the distance from the GNSS module to the center of the vehicle\n",
    "            y_offset = 1.5 * np.tan(np.radians(pitch_deg))\n",
    "            self.projected_points.append((x_m + x_offset, y_m + y_offset))\n",
    "    \n",
    "    def calculate_heading(self): # calculate heading between two points\n",
    "        for i in range(1, len(self.data)): # start at 1 b/c we need to calculate heading between two points\n",
    "            delta_x = self.projected_points[i][0] - self.projected_points[i-1][0] # calculate delta x and y\n",
    "            delta_y = self.projected_points[i][1] - self.projected_points[i-1][1] \n",
    "            self.headings.append(np.degrees(np.arctan2(delta_y, delta_x))) # calculate heading & add it to list\n",
    "    \n",
    "    def calculate_velocity(self):\n",
    "        for i in range(len(self.data) - 1): # start at 0 b/c we need to calculate velocity between two points\n",
    "            dx = self.data[i+1][1] - self.data[i][1] # calculate delta x and y\n",
    "            dy = self.data[i+1][2] - self.data[i][2]\n",
    "            dt = self.data[i+1][0] - self.data[i][0] # calculate delta t\n",
    "            vi = np.sqrt(dx**2 + dy**2) / dt # calculate velocity\n",
    "            self.velocities.append(vi) # add velocity to list\n",
    "        self.normalized_velocities = [v/(max(self.velocities)) for v in self.velocities] # normalize all velocities\n",
    "\n",
    "    def save_to_csv(self):\n",
    "        with open('output_data.csv', 'w', newline='') as csvfile:\n",
    "            writer = csv.DictWriter(csvfile, \n",
    "                                    fieldnames = ['timestamp',\n",
    "                                                  'x_m',   # Changed to meters\n",
    "                                                  'y_m',   \n",
    "                                                  'roll_deg', \n",
    "                                                  'pitch_deg', \n",
    "                                                  'heading_deg', \n",
    "                                                  'velocity'])\n",
    "            writer.writeheader()\n",
    "            for i in range(len(self.data) - 1):\n",
    "                writer.writerow({\n",
    "                    'timestamp': self.data[i][0],\n",
    "                    'x_m': self.data[i][1],   # Changed to meters\n",
    "                    'y_m': self.data[i][2],   \n",
    "                    'roll_deg': self.data[i][3],\n",
    "                    'pitch_deg': self.data[i][4],\n",
    "                    'heading_deg': self.headings[i],\n",
    "                    'velocity': self.velocities[i]})\n",
    "    \n",
    "    @time_it # measured taking ~1ms to complete \n",
    "    def process_data(self): # process data\n",
    "        self.data = sorted(self.data, key=lambda x: x[0])  # sort by timestamps\n",
    "        self.calculate_projection()\n",
    "        self.calculate_heading()\n",
    "        self.calculate_velocity()\n",
    "        self.save_to_csv()\n",
    "\n",
    "    def plot_quiver(self, ax):\n",
    "        U = np.cos(np.radians(self.headings))\n",
    "        V = np.sin(np.radians(self.headings))\n",
    "        X = [point[0] for point in self.projected_points]\n",
    "        Y = [point[1] for point in self.projected_points]\n",
    "        min_length = min(len(U), len(X)) # ugly hack to make sure all lists are the same length...\n",
    "        U, V = U[:min_length], V[:min_length]\n",
    "        X, Y = X[:min_length], Y[:min_length]\n",
    "        ax.quiver(X, Y, U, V, angles='xy', scale_units='xy', scale=8, color='b', alpha=0.5, width=0.0045, headwidth=2.8, headlength=3.8, headaxislength=3.5)\n",
    "        ax.set_title(\"Speed & Yaw on Moving Plane\")\n",
    "        ax.set_xlabel(\"X [m]\")\n",
    "        ax.set_ylabel(\"Y [m]\")\n",
    "\n",
    "    def plot_time_series(self, ax):\n",
    "        times = [point[0] for point in self.data][1:]\n",
    "        roll = [point[3] for point in self.data][1:]\n",
    "        pitch = [point[4] for point in self.data][1:]\n",
    "        yaw = self.headings\n",
    "        # window_size = 5 # tried smoothing yaw but it didn't work well\n",
    "        # yaw = np.convolve(self.headings, np.ones(window_size)/window_size, mode='valid')\n",
    "        # adjusted_times = times[int(window_size/2): -int(window_size/2)]\n",
    "        ax.plot(times, roll, label=\"Roll\", color=\"blue\", alpha=0.5)\n",
    "        ax.plot(times, pitch, label=\"Pitch\", color=\"red\", alpha=0.5)\n",
    "        ax.set_xlabel(\"Time [s]\")\n",
    "        ax.set_ylabel(\"Roll & Pitch [°]\")\n",
    "        ax.legend(loc='upper left')\n",
    "\n",
    "        ax2 = ax.twinx()\n",
    "        ax2.set_ylabel('Yaw [°]', color='green')\n",
    "        ax2.plot(times, yaw, label=\"Yaw\", color=\"green\", alpha=0.5)\n",
    "        ax2.tick_params(axis='y', labelcolor='green')\n",
    "        ax.set_title(\"Roll, Pitch, Yaw / Time\")\n",
    "\n",
    "    def plot_velocity_vs_time(self, ax):\n",
    "        times = [point[0] for point in self.data] # get times\n",
    "        smoothed_velocities = np.convolve(self.velocities, np.ones(5)/5, mode='valid') # simple moving average to smoothen the velocities\n",
    "        truncated_times = times[len(times) - len(smoothed_velocities):] # truncate times to match the length of the smoothed velocities\n",
    "        ax.plot(truncated_times, smoothed_velocities, label=\"Velocity\", color=\"purple\", alpha=0.5)\n",
    "        ax.set_title(\"Velocity / Time\")\n",
    "        ax.set_xlabel(\"Time [s]\")\n",
    "        ax.set_ylabel(\"Velocity [m/s]\")\n",
    "  \n",
    "    def plot_polar(self, ax):\n",
    "        angles = np.radians(self.headings)\n",
    "        radii = self.velocities\n",
    "        ax.scatter(angles, radii, color='g', s=20, alpha=0.5)\n",
    "        # for i, (angle, radius) in enumerate(zip(angles, radii)): # tried annotations for clarity but it was too cluttered\n",
    "        #     if i % 5 == 0:\n",
    "        #         ax.annotate(f\"{radius:.2f} m/s\", (angle, radius), textcoords=\"offset points\", xytext=(0,5), ha='center', fontsize=8)   \n",
    "        ax.set_title(\"Yaw [°] / Velocity [m/s]\")\n",
    "        ax.grid(True)\n",
    "        ax.set_theta_zero_location(\"S\")\n",
    "        ax.set_theta_direction(-1)\n",
    "        ax.set_rlim(0.4, None)\n",
    "        ax.set_thetamin(90)\n",
    "        ax.set_thetamax(180)\n",
    "    \n",
    "    def visualize_data(self, showfig, savefig):\n",
    "\n",
    "        fig = plt.figure(figsize=(14, 8))\n",
    "        ax1 = fig.add_subplot(2, 2, 1)\n",
    "        ax2 = fig.add_subplot(2, 2, 2, projection='polar')\n",
    "        ax3 = fig.add_subplot(2, 2, 3)\n",
    "        ax4 = fig.add_subplot(2, 2, 4)\n",
    "\n",
    "        self.plot_quiver(ax1)\n",
    "        self.plot_polar(ax2)\n",
    "        self.plot_time_series(ax3)\n",
    "        self.plot_velocity_vs_time(ax4)\n",
    "        \n",
    "        plt.subplots_adjust(hspace=0.3, wspace=0.3)\n",
    "        plt.draw() # predraw the plot\n",
    "        manager = plt.get_current_fig_manager() # get the current figure manager\n",
    "        manager.window.showMaximized() # maximize the window\n",
    "        if savefig:\n",
    "            fig.savefig('analysis.png', dpi=300)\n",
    "        if showfig:\n",
    "            plt.show() \n",
    "    \n",
    "    def run(self, showfig=True, savefig=False):\n",
    "        self.process_data()\n",
    "        self.visualize_data(showfig, savefig)"
   ]
  },
  {
   "cell_type": "markdown",
   "metadata": {},
   "source": [
    "## execution..."
   ]
  },
  {
   "cell_type": "code",
   "execution_count": null,
   "metadata": {},
   "outputs": [],
   "source": [
    "processor = DiffGNSSProcessor(\"input_data.csv\")\n",
    "processor.run(showfig=True, savefig=True)"
   ]
  }
 ],
 "metadata": {
  "kernelspec": {
   "display_name": "Python 3",
   "language": "python",
   "name": "python3"
  },
  "language_info": {
   "codemirror_mode": {
    "name": "ipython",
    "version": 3
   },
   "file_extension": ".py",
   "mimetype": "text/x-python",
   "name": "python",
   "nbconvert_exporter": "python",
   "pygments_lexer": "ipython3",
   "version": "3.9.13"
  },
  "orig_nbformat": 4
 },
 "nbformat": 4,
 "nbformat_minor": 2
}
